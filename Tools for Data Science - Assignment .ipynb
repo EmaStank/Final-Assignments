{
 "cells": [
  {
   "cell_type": "markdown",
   "id": "cd5f351e-988f-4b6a-9e4e-5edb94b4ade0",
   "metadata": {},
   "source": [
    "# My Jupyter Notebook on IBM Watson Studio"
   ]
  },
  {
   "cell_type": "markdown",
   "id": "32a4cfc2-cc05-4b3b-bc5f-0d13bb6672df",
   "metadata": {},
   "source": [
    "**Emilija Stanković**\n",
    "<br> \n",
    "Pharmacist"
   ]
  },
  {
   "cell_type": "markdown",
   "id": "4dea0ab7-cced-4c9e-91b0-4fa39d3b16e9",
   "metadata": {},
   "source": [
    "*I am interested in data science because I like working with data and I hope to become a Clinical data manager. Data science is perspective and inspiring career.*"
   ]
  },
  {
   "cell_type": "markdown",
   "id": "6313f2a4-17ba-4914-aa00-cc2d839ff027",
   "metadata": {},
   "source": [
    "### In code in next cell we create list of numerical values and then sum them with built-in sum function"
   ]
  },
  {
   "cell_type": "code",
   "execution_count": 3,
   "id": "2142aaca-6d90-4e8e-a41d-0579a4fdd11c",
   "metadata": {},
   "outputs": [
    {
     "data": {
      "text/plain": [
       "35"
      ]
     },
     "execution_count": 3,
     "metadata": {},
     "output_type": "execute_result"
    }
   ],
   "source": [
    "a = [1,5,8,10,11]\n",
    "sum(a)"
   ]
  },
  {
   "cell_type": "markdown",
   "id": "a4653996-317a-4576-b623-4e90f6a46f07",
   "metadata": {},
   "source": [
    "[Pictures of nature](https://unsplash.com/s/photos/natural)\n",
    "***************\n",
    "Bulleted list\n",
    "<br>\n",
    "*item 1\n",
    "<br>\n",
    "*item 2\n",
    "<br>\n",
    "*item 3\n",
    "<br>\n",
    ">blocked quotes\n",
    ">>nested blocked quote"
   ]
  },
  {
   "cell_type": "code",
   "execution_count": null,
   "id": "175d042d-1008-45d4-8043-09875c7de9ac",
   "metadata": {},
   "outputs": [],
   "source": []
  }
 ],
 "metadata": {
  "kernelspec": {
   "display_name": "Python",
   "language": "python",
   "name": "conda-env-python-py"
  },
  "language_info": {
   "codemirror_mode": {
    "name": "ipython",
    "version": 3
   },
   "file_extension": ".py",
   "mimetype": "text/x-python",
   "name": "python",
   "nbconvert_exporter": "python",
   "pygments_lexer": "ipython3",
   "version": "3.7.12"
  }
 },
 "nbformat": 4,
 "nbformat_minor": 5
}
